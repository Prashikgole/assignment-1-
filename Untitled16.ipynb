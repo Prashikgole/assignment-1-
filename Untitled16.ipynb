{
 "cells": [
  {
   "cell_type": "markdown",
   "id": "2bee9c16",
   "metadata": {},
   "source": [
    "1. In the below elements which of them are values or an expression?"
   ]
  },
  {
   "cell_type": "markdown",
   "id": "ebdef22a",
   "metadata": {},
   "source": [
    "*        = expression\n",
    "\n",
    "'hello'  = value\n",
    "\n",
    "\n",
    "-87.8    = value\n",
    "\n",
    "-        = expression\n",
    "\n",
    "/        = expression\n",
    "\n",
    "+       =  expression\n",
    "\n",
    "6         = value"
   ]
  },
  {
   "cell_type": "markdown",
   "id": "ea4cdc26",
   "metadata": {},
   "source": [
    "2. What is the difference between string and variable?\n",
    "\n",
    "\n",
    "   string :- string which contains different type of words , integer in it .\n",
    "   \n",
    "   variable :- variables means where we stored strings . "
   ]
  },
  {
   "cell_type": "markdown",
   "id": "0ea42bfe",
   "metadata": {},
   "source": [
    "3. Describe three different data types.\n",
    "\n"
   ]
  },
  {
   "cell_type": "markdown",
   "id": "1ea1106e",
   "metadata": {},
   "source": [
    "1. float :- float data is data wich contain floating numberes like (25.36 ,24563.652)\n",
    "2. integer ;- data which contain integer as value . like (45,25,3,66,1,25)\n",
    "3. string :- data which contain words / name as the data . like (\"sudh\" , \"ineuron\")"
   ]
  },
  {
   "cell_type": "markdown",
   "id": "459042ea",
   "metadata": {},
   "source": [
    "4. What is an expression made up of? What do all expressions do?\n",
    "   Expression is made up of symbols . like \n",
    "   + = addition \n",
    "   - = subtraction\n",
    "   /  = divide \n",
    "   * = multiplie "
   ]
  },
  {
   "cell_type": "markdown",
   "id": "d7bd84ca",
   "metadata": {},
   "source": [
    "4.What is an expression made up of? What do all expressions do?   \n",
    "\n",
    "      Expression is made up of symbols . like\n",
    "           +  = addition\n",
    "            - = subtraction \n",
    "           / = divide\n",
    "             * = multiplie\n",
    "             "
   ]
  },
  {
   "cell_type": "markdown",
   "id": "7107cc23",
   "metadata": {},
   "source": [
    "5. This assignment statements, like spam = 10. What is the difference between an\n",
    "expression and a statement?\n",
    "\n",
    "     spam = 10 \n",
    "     in this example \"spam = 10\" is statement which said what statement all about .\n",
    "     \"=\" is expession which said is eqaul to sign that says spam value is 10 ."
   ]
  },
  {
   "cell_type": "markdown",
   "id": "6014851e",
   "metadata": {},
   "source": [
    "6. After running the following code, what does the variable bacon contain?"
   ]
  },
  {
   "cell_type": "code",
   "execution_count": 1,
   "id": "6ccf01c1",
   "metadata": {},
   "outputs": [
    {
     "data": {
      "text/plain": [
       "23"
      ]
     },
     "execution_count": 1,
     "metadata": {},
     "output_type": "execute_result"
    }
   ],
   "source": [
    "bacon = 22\n",
    "bacon + 1"
   ]
  },
  {
   "cell_type": "markdown",
   "id": "0e9fbf5e",
   "metadata": {},
   "source": [
    "7. What should the values of the following two terms be?\n"
   ]
  },
  {
   "cell_type": "code",
   "execution_count": 2,
   "id": "209961da",
   "metadata": {},
   "outputs": [
    {
     "data": {
      "text/plain": [
       "'spamsapmspam'"
      ]
     },
     "execution_count": 2,
     "metadata": {},
     "output_type": "execute_result"
    }
   ],
   "source": [
    "\"spam\" + \"sapmspam\""
   ]
  },
  {
   "cell_type": "code",
   "execution_count": 6,
   "id": "e1bf55de",
   "metadata": {},
   "outputs": [
    {
     "data": {
      "text/plain": [
       "'spamspamspam'"
      ]
     },
     "execution_count": 6,
     "metadata": {},
     "output_type": "execute_result"
    }
   ],
   "source": [
    "\"spam\"*3"
   ]
  },
  {
   "cell_type": "markdown",
   "id": "89f20a60",
   "metadata": {},
   "source": [
    "8. Why is eggs a valid variable name while 100 is invalid?\n",
    "    \n",
    "    Becuase \"eggs\" is made of alphabets and the other side 100 is made up of integer which is data type . "
   ]
  },
  {
   "cell_type": "markdown",
   "id": "dde88777",
   "metadata": {},
   "source": [
    "9. What three functions can be used to get the integer, floating-point number, or string\n",
    "version of a value?"
   ]
  },
  {
   "cell_type": "markdown",
   "id": "40710112",
   "metadata": {},
   "source": [
    " tuple , list , dictionary"
   ]
  },
  {
   "cell_type": "markdown",
   "id": "47d3ff9f",
   "metadata": {},
   "source": [
    "10. Why does this expression cause an error? How can you fix it?\n"
   ]
  },
  {
   "cell_type": "markdown",
   "id": "f5e13892",
   "metadata": {},
   "source": [
    "'i have eaten ' + 99 + \"burritos\""
   ]
  },
  {
   "cell_type": "markdown",
   "id": "3548500f",
   "metadata": {},
   "source": [
    " *becuase they are diff type of data . We can fix by simply give dubble code to 99 . "
   ]
  },
  {
   "cell_type": "code",
   "execution_count": 14,
   "id": "bdf207a2",
   "metadata": {},
   "outputs": [
    {
     "data": {
      "text/plain": [
       "'i have eaten99burritos'"
      ]
     },
     "execution_count": 14,
     "metadata": {},
     "output_type": "execute_result"
    }
   ],
   "source": [
    "\"i have eaten\" + \"99\" + \"burritos\""
   ]
  },
  {
   "cell_type": "code",
   "execution_count": null,
   "id": "3dd42c20",
   "metadata": {},
   "outputs": [],
   "source": []
  }
 ],
 "metadata": {
  "kernelspec": {
   "display_name": "Python 3 (ipykernel)",
   "language": "python",
   "name": "python3"
  },
  "language_info": {
   "codemirror_mode": {
    "name": "ipython",
    "version": 3
   },
   "file_extension": ".py",
   "mimetype": "text/x-python",
   "name": "python",
   "nbconvert_exporter": "python",
   "pygments_lexer": "ipython3",
   "version": "3.9.12"
  }
 },
 "nbformat": 4,
 "nbformat_minor": 5
}
